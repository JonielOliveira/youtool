{
  "nbformat": 4,
  "nbformat_minor": 0,
  "metadata": {
    "colab": {
      "provenance": [],
      "collapsed_sections": [
        "6dL45JyG73iA",
        "NYt9ntqK8CBI",
        "Y8PDx6STC14u",
        "samaUCiPH5qj",
        "AcOImBfzJvCb",
        "WgaDkR2MMwsc",
        "MwBjZ9SZRJJo",
        "hL1ODYxNOZNV",
        "0chtL1tpSjwO"
      ],
      "authorship_tag": "ABX9TyOfNIidlgCwrniNn6J7jBzl",
      "include_colab_link": true
    },
    "kernelspec": {
      "name": "python3",
      "display_name": "Python 3"
    },
    "language_info": {
      "name": "python"
    }
  },
  "cells": [
    {
      "cell_type": "markdown",
      "metadata": {
        "id": "view-in-github",
        "colab_type": "text"
      },
      "source": [
        "<a href=\"https://colab.research.google.com/github/JonielOliveira/youtool/blob/main/Youtool.ipynb\" target=\"_parent\"><img src=\"https://colab.research.google.com/assets/colab-badge.svg\" alt=\"Open In Colab\"/></a>"
      ]
    },
    {
      "cell_type": "markdown",
      "source": [
        "#**Introdução ao Youtool**"
      ],
      "metadata": {
        "id": "XYr2nPwaYJ5-"
      }
    },
    {
      "cell_type": "markdown",
      "source": [
        "**(Youtool é uma biblioteca e CLI que facilita o acesso a dados de vídeos do YouTube)**"
      ],
      "metadata": {
        "id": "X9dOCUNtX_iJ"
      }
    },
    {
      "cell_type": "markdown",
      "source": [
        "Exemplos que utilização da biblioteca Youtool. Os exemplos foram extraídos da apresentação realizada na Python Brasil 2024 (19/10/2024) por Álvaro Justen & Ana Paula Sales.\n",
        "\n",
        "Para mais informações acesse o GitHub do projeto em: https://github.com/PythonicCafe/youtool"
      ],
      "metadata": {
        "id": "4FOQoOz0VZsK"
      }
    },
    {
      "cell_type": "markdown",
      "source": [
        "### [1] Instalação da biblioteca: Youtool"
      ],
      "metadata": {
        "id": "6dL45JyG73iA"
      }
    },
    {
      "cell_type": "code",
      "execution_count": null,
      "metadata": {
        "id": "y63WIIsF1oDJ"
      },
      "outputs": [],
      "source": [
        "!pip install youtool"
      ]
    },
    {
      "cell_type": "markdown",
      "source": [
        "### [2] Instalações extras da biblioteca: Youtool"
      ],
      "metadata": {
        "id": "NYt9ntqK8CBI"
      }
    },
    {
      "cell_type": "code",
      "source": [
        "!pip install youtool[livechat]\n",
        "!pip install youtool[transcription]"
      ],
      "metadata": {
        "id": "eIC2BCaP79E3"
      },
      "execution_count": null,
      "outputs": []
    },
    {
      "cell_type": "markdown",
      "source": [
        "### [3] Descobrindo IDs de canais:"
      ],
      "metadata": {
        "id": "Y8PDx6STC14u"
      }
    },
    {
      "cell_type": "code",
      "source": [
        "#Não precisa de chave da API!\n",
        "import os\n",
        "from youtool import YouTube\n",
        "from google.colab import userdata\n",
        "\n",
        "# Create one in Google Cloud Console\n",
        "api_keys = [userdata.get('YOUTUBE_API_KEY')]\n",
        "\n",
        "#Você pode passar mais de uma chave\n",
        "yt = YouTube(api_keys)\n",
        "\n",
        "url = \"https://www.youtube.com/@Joniel-Youtube\"\n",
        "#Scraping\n",
        "channel_id = yt.channel_id_from_url(url)\n",
        "print(f\"ID do canal: {channel_id}\")\n"
      ],
      "metadata": {
        "id": "u-eCrPl9AOBq"
      },
      "execution_count": null,
      "outputs": []
    },
    {
      "cell_type": "markdown",
      "source": [
        "### [4] Listando playlists de um canal:"
      ],
      "metadata": {
        "id": "samaUCiPH5qj"
      }
    },
    {
      "cell_type": "code",
      "source": [
        "#Necessita de uma chave de API do YouTube (gratuita)\n",
        "from pprint import pprint\n",
        "info = list(yt.channels_infos([channel_id]))[0]\n",
        "print(\"Channel info:\")\n",
        "pprint(info)\n",
        "playlist_id = info[\"playlist_id\"]\n",
        "print(f\"Playlist ID: {playlist_id}\")\n"
      ],
      "metadata": {
        "id": "ZMkBDEy-H9zu"
      },
      "execution_count": null,
      "outputs": []
    },
    {
      "cell_type": "markdown",
      "source": [
        "### [5] Listando vídeos de uma playlist:"
      ],
      "metadata": {
        "id": "AcOImBfzJvCb"
      }
    },
    {
      "cell_type": "code",
      "source": [
        "import datetime\n",
        "videos_ids = []\n",
        "total_videos = 0\n",
        "momento_inicial = datetime.datetime(2024, 1, 1, 3, 0, 0, tzinfo=datetime.timezone.utc)\n",
        "for video in yt.playlist_videos(playlist_id):\n",
        "  if video[\"published_at\"] >= momento_inicial:\n",
        "    videos_ids.append(video[\"id\"])\n",
        "  total_videos += 1\n",
        "print(f\"Identificados {len(videos_ids)} vídeos de um total de {total_videos} nessa playlist\")\n"
      ],
      "metadata": {
        "id": "Ma6zjHCMJzDR"
      },
      "execution_count": null,
      "outputs": []
    },
    {
      "cell_type": "markdown",
      "source": [
        "### [6] Detalhes de um vídeo:"
      ],
      "metadata": {
        "id": "WgaDkR2MMwsc"
      }
    },
    {
      "cell_type": "code",
      "source": [
        "# O método `playlist_videos` não nos fornece todas as informações de um vídeo\n",
        "videos = list(yt.videos_infos(videos_ids))\n",
        "print(\"Informações do primeiro vídeo:\")\n",
        "pprint(videos[0])\n"
      ],
      "metadata": {
        "id": "GAXBEe_BMzhC"
      },
      "execution_count": null,
      "outputs": []
    },
    {
      "cell_type": "markdown",
      "source": [
        "### [7] Criar a pasta \"transcricoes\":"
      ],
      "metadata": {
        "id": "MwBjZ9SZRJJo"
      }
    },
    {
      "cell_type": "code",
      "source": [
        "import os\n",
        "\n",
        "# Defina o nome da nova pasta\n",
        "nome_da_pasta = 'transcricoes'\n",
        "\n",
        "# Crie a pasta\n",
        "os.makedirs(nome_da_pasta, exist_ok=True)\n",
        "\n",
        "print(f\"Pasta '{nome_da_pasta}' criada com sucesso!\")\n"
      ],
      "metadata": {
        "id": "AMqKGmkmQ9GZ"
      },
      "execution_count": null,
      "outputs": []
    },
    {
      "cell_type": "markdown",
      "source": [
        "### [8] Baixando transcrição/áudio/vídeo:"
      ],
      "metadata": {
        "id": "hL1ODYxNOZNV"
      }
    },
    {
      "cell_type": "code",
      "source": [
        "print(videos_ids)\n",
        "# Troque por `download_audios` ou `download_videos`\n",
        "for status in yt.download_transcriptions(\n",
        "    videos_ids=videos_ids, language_code=\"pt\", path=\"/content/transcricoes\", batch_size=3,\n",
        "):\n",
        "  print(status)\n"
      ],
      "metadata": {
        "id": "OoVysiAsOqJi"
      },
      "execution_count": null,
      "outputs": []
    },
    {
      "cell_type": "markdown",
      "source": [
        "### [9] Trabalhando com as transcrições:"
      ],
      "metadata": {
        "id": "0chtL1tpSjwO"
      }
    },
    {
      "cell_type": "code",
      "source": [
        "from youtool.utils import simplify_vtt\n",
        "\n",
        "input_filename = f\"/content/transcricoes/{videos_ids[0]}.pt.vtt\"\n",
        "output_filename = f\"/content/transcricoes/{videos_ids[0]}_simplified.txt\"\n",
        "\n",
        "with open(input_filename) as fobj:\n",
        "  vtt = fobj.read()\n",
        "simplified = simplify_vtt(vtt)\n",
        "\n",
        "# Salvar a saída em um arquivo .txt\n",
        "with open(output_filename, 'w') as outfile:\n",
        "    for line in simplified.splitlines():\n",
        "        outfile.write(f\"{line.strip()}\\n\")\n"
      ],
      "metadata": {
        "id": "-UxCBoseSnVV",
        "outputId": "b818154c-8890-418d-ab55-e78d8b4b47dc",
        "colab": {
          "base_uri": "https://localhost:8080/",
          "height": 219
        }
      },
      "execution_count": 9,
      "outputs": [
        {
          "output_type": "error",
          "ename": "NameError",
          "evalue": "name 'filename' is not defined",
          "traceback": [
            "\u001b[0;31m---------------------------------------------------------------------------\u001b[0m",
            "\u001b[0;31mNameError\u001b[0m                                 Traceback (most recent call last)",
            "\u001b[0;32m<ipython-input-9-1561d9dfd6b6>\u001b[0m in \u001b[0;36m<cell line: 6>\u001b[0;34m()\u001b[0m\n\u001b[1;32m      4\u001b[0m \u001b[0moutput_filename\u001b[0m \u001b[0;34m=\u001b[0m \u001b[0;34mf\"/content/transcricoes/{videos_ids[0]}_simplified.txt\"\u001b[0m\u001b[0;34m\u001b[0m\u001b[0;34m\u001b[0m\u001b[0m\n\u001b[1;32m      5\u001b[0m \u001b[0;34m\u001b[0m\u001b[0m\n\u001b[0;32m----> 6\u001b[0;31m \u001b[0;32mwith\u001b[0m \u001b[0mopen\u001b[0m\u001b[0;34m(\u001b[0m\u001b[0mfilename\u001b[0m\u001b[0;34m)\u001b[0m \u001b[0;32mas\u001b[0m \u001b[0mfobj\u001b[0m\u001b[0;34m:\u001b[0m\u001b[0;34m\u001b[0m\u001b[0;34m\u001b[0m\u001b[0m\n\u001b[0m\u001b[1;32m      7\u001b[0m   \u001b[0mvtt\u001b[0m \u001b[0;34m=\u001b[0m \u001b[0mfobj\u001b[0m\u001b[0;34m.\u001b[0m\u001b[0mread\u001b[0m\u001b[0;34m(\u001b[0m\u001b[0;34m)\u001b[0m\u001b[0;34m\u001b[0m\u001b[0;34m\u001b[0m\u001b[0m\n\u001b[1;32m      8\u001b[0m \u001b[0msimplified\u001b[0m \u001b[0;34m=\u001b[0m \u001b[0msimplify_vtt\u001b[0m\u001b[0;34m(\u001b[0m\u001b[0mvtt\u001b[0m\u001b[0;34m)\u001b[0m\u001b[0;34m\u001b[0m\u001b[0;34m\u001b[0m\u001b[0m\n",
            "\u001b[0;31mNameError\u001b[0m: name 'filename' is not defined"
          ]
        }
      ]
    }
  ]
}